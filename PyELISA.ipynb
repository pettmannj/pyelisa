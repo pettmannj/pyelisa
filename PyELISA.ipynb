{
 "cells": [
  {
   "cell_type": "markdown",
   "metadata": {},
   "source": [
    "# Jupyter PyELISA\n",
    "Version: 1.0.0a  \n",
    "Author: Johannes Pettmann\n",
    "License: GNU General Public License v3\n",
    "\n",
    "Fits ELISA standards with a 4 parameter sigmoidal function and interpolates the concentration of any unkown samples.\n",
    "\n",
    "### Data\n",
    "Each plate data should be supplied as a CSV file. Any file in the data path will be analysed separately in one run. Files in subfolders will be ignored.\n",
    "\n",
    "### Layout\n",
    "The layout of the plate can be supplied as layout file. Layout files are CSV files that start with 'layout'. They contain the location and concentrations of the standards and blanks.\n",
    "Furthermore, they can be used to adjust for any sample position. For example, if the samples are transposed when put on the plate. The results will be correctly oriented."
   ]
  },
  {
   "cell_type": "markdown",
   "metadata": {
    "tags": []
   },
   "source": [
    "## Requirements\n",
    "\n",
    "* Python 3.8<\n",
    "* numpy, pandas, scipy, matplotlib\n",
    "* (Optional) ipywidgets for UX. See [here](https://ipywidgets.readthedocs.io/en/latest/user_install.html) for details on how to install."
   ]
  },
  {
   "cell_type": "markdown",
   "metadata": {},
   "source": [
    "## Settings\n",
    "Settings can be adjusted manually (e.g. setting.figure_resolution = 200) or optionally with the ipythonwidget user interface. \n",
    "If only text is shown for the cell below, ipythonwidgets are not installed correctly.\n",
    "* *dilution_factor:* Dilution factor used for samples. Doesn't change the fitting. Default: 1\n",
    "* *exclude_saturated:* Should oversaturated standards (i.e. OD of standards decreases at increasing doses) be excluded. Default: True\n",
    "* *extrapolate_top:* How farover the top standard concentration to extrapolate. E.g. for a top standard of 500, 1.5 would allow extrapolation up to 750. Default: 1.0\n",
    "* *fitting_model:* Fitting model to be used. SigModel5P (5 parameter sigmoidal model) is experimental only. Default: SigModel4P (4 parameter sigmoidal model)\n",
    "* *data_path:* Folder with data files. Ignores data in subfolders. Default: /data\n",
    "* *result_path:* Folder where results should be saved: Default: /results\n",
    "* *data_extension:* Extension of data files. Default: .csv\n",
    "* *layout_filepath:* Path to layout file. Default: layout_full.csv\n",
    "* *export_results:* Export results data? Default: False\n",
    "* *export_figures:* Export figures? Default: False\n",
    "* *figure_type:* File format for figures. Can be .pdf, .svg, .png. Default: .pdf\n",
    "* *figure_resolution:* Resolution of figure if using .png. Default: 150\n",
    "\n",
    "**Note:** Clicking on the number next to a slider lets you change the number directly."
   ]
  },
  {
   "cell_type": "code",
   "execution_count": 1,
   "metadata": {},
   "outputs": [
    {
     "data": {
      "application/vnd.jupyter.widget-view+json": {
       "model_id": "3b2ad33f86c34a2f86bed7a3306a4c0b",
       "version_major": 2,
       "version_minor": 0
      },
      "text/plain": [
       "FloatSlider(value=1.0, description='Dilution factor:', max=50.0, min=1.0, step=1.0)"
      ]
     },
     "metadata": {},
     "output_type": "display_data"
    },
    {
     "data": {
      "application/vnd.jupyter.widget-view+json": {
       "model_id": "cec28379614f4fd2b5883d9529e19f49",
       "version_major": 2,
       "version_minor": 0
      },
      "text/plain": [
       "FloatSlider(value=1.0, description='Extrapolation threshold (1 = no extrapolation):', max=10.0, min=1.0)"
      ]
     },
     "metadata": {},
     "output_type": "display_data"
    },
    {
     "data": {
      "application/vnd.jupyter.widget-view+json": {
       "model_id": "1a317455a3c3493ea8e25f0feb61f754",
       "version_major": 2,
       "version_minor": 0
      },
      "text/plain": [
       "Checkbox(value=True, description='Exclude saturated standards automatically?', indent=False)"
      ]
     },
     "metadata": {},
     "output_type": "display_data"
    },
    {
     "data": {
      "application/vnd.jupyter.widget-view+json": {
       "model_id": "fe71c6c89e2346e49caf6ae23d76fea1",
       "version_major": 2,
       "version_minor": 0
      },
      "text/plain": [
       "Checkbox(value=True, description='Export figures?', indent=False)"
      ]
     },
     "metadata": {},
     "output_type": "display_data"
    },
    {
     "data": {
      "application/vnd.jupyter.widget-view+json": {
       "model_id": "466209bda88f4e159ff4b9120d1434f4",
       "version_major": 2,
       "version_minor": 0
      },
      "text/plain": [
       "Checkbox(value=True, description='Export results (interpolated concentrations)?', indent=False)"
      ]
     },
     "metadata": {},
     "output_type": "display_data"
    },
    {
     "data": {
      "application/vnd.jupyter.widget-view+json": {
       "model_id": "096c6154575644638651d664534a804d",
       "version_major": 2,
       "version_minor": 0
      },
      "text/plain": [
       "Dropdown(description='Layout:', index=2, options=(('layout_6rows_STDleft', 'layout_6rows_STDleft.csv'), ('layo…"
      ]
     },
     "metadata": {},
     "output_type": "display_data"
    }
   ],
   "source": [
    "from ux import display_widgets\n",
    "widgets = display_widgets()"
   ]
  },
  {
   "cell_type": "markdown",
   "metadata": {},
   "source": [
    "### Read values from interface and/or manually adjust settings\n",
    "This needs to be executed every time the values above are changed!"
   ]
  },
  {
   "cell_type": "code",
   "execution_count": 4,
   "metadata": {},
   "outputs": [],
   "source": [
    "from ux import read_widget_values\n",
    "from settings import Settings\n",
    "\n",
    "setting = Settings() # Create new settings instance with default parameters\n",
    "setting.update(read_widget_values(widgets)) # Adjust based on values above\n",
    "\n",
    "# Manuall adjust settings:\n",
    "# setting.data_path = '/data'"
   ]
  },
  {
   "cell_type": "markdown",
   "metadata": {},
   "source": [
    "## Fitting"
   ]
  },
  {
   "cell_type": "code",
   "execution_count": 5,
   "metadata": {},
   "outputs": [
    {
     "name": "stdout",
     "output_type": "stream",
     "text": [
      "Run: d77e\n",
      "Dilution factor: 1.0\n",
      "\n",
      "\n",
      "Loaded layout file layout_full.csv.\n",
      "Loaded data file test_data.csv.\n",
      "No saturated standards identified for dataset test_data.\n",
      "\n",
      ">>> Start fitting standards <<<\n"
     ]
    },
    {
     "data": {
      "image/png": "[encoded data removed]",
      "text/plain": [
       "<Figure size 432x288 with 1 Axes>"
      ]
     },
     "metadata": {
      "needs_background": "light"
     },
     "output_type": "display_data"
    },
    {
     "name": "stdout",
     "output_type": "stream",
     "text": [
      "\n",
      ">>> Results exported <<<\n"
     ]
    }
   ],
   "source": [
    "import dataset\n",
    "ds = dataset.Datasets(setting)\n",
    "ds.load()\n",
    "ds.fit()"
   ]
  },
  {
   "cell_type": "markdown",
   "metadata": {},
   "source": [
    "## Results\n",
    "The results contain the interpolated concentrations of the samples. Samples are rearranged based on layout file. For negative ODs (after blanking) a concentration of 0 is shown. For samples above the top standard (considering the threshold set), 'SATURATED' is shown."
   ]
  },
  {
   "cell_type": "markdown",
   "metadata": {},
   "source": [
    "## Troubleshooting\n",
    "##### The UX cell shows only text\n",
    "Install ipywidgets correctly. Sometimes an extra step is required to activate it. See their [website](https://ipywidgets.readthedocs.io/en/latest/user_install.html) for help. Updating Jupyter or JupyterLab might also help. For example, JupyterLab 2 did not work for me, but 3 worked without problems.\n",
    "\n",
    "\n",
    "##### How can I adjust the top standard quickly\n",
    "Currently, there is no quick way to adjust for different standards. If the standard dilution factor is the same, I suggest adjusting the sample dilution factor. For example, if the dilution factor is 5 and the top standard concentration is 250, but the layout is set to 500, using a dilution factor of 5 instead would give the right results."
   ]
  },
  {
   "cell_type": "code",
   "execution_count": null,
   "metadata": {},
   "outputs": [],
   "source": []
  }
 ],
 "metadata": {
  "kernelspec": {
   "display_name": "Python 3",
   "language": "python",
   "name": "python3"
  },
  "language_info": {
   "codemirror_mode": {
    "name": "ipython",
    "version": 3
   },
   "file_extension": ".py",
   "mimetype": "text/x-python",
   "name": "python",
   "nbconvert_exporter": "python",
   "pygments_lexer": "ipython3",
   "version": "3.8.3"
  }
 },
 "nbformat": 4,
 "nbformat_minor": 4
}
